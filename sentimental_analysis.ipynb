{
  "nbformat": 4,
  "nbformat_minor": 0,
  "metadata": {
    "colab": {
      "provenance": [],
      "authorship_tag": "ABX9TyPecCAcSqDKIWGHJ/vOyIr/",
      "include_colab_link": true
    },
    "kernelspec": {
      "name": "python3",
      "display_name": "Python 3"
    },
    "language_info": {
      "name": "python"
    }
  },
  "cells": [
    {
      "cell_type": "markdown",
      "metadata": {
        "id": "view-in-github",
        "colab_type": "text"
      },
      "source": [
        "<a href=\"https://colab.research.google.com/github/Qudsia-jabeen20/Sentiment_Analysis/blob/main/sentimental_analysis.ipynb\" target=\"_parent\"><img src=\"https://colab.research.google.com/assets/colab-badge.svg\" alt=\"Open In Colab\"/></a>"
      ]
    },
    {
      "cell_type": "code",
      "execution_count": null,
      "metadata": {
        "id": "KYH7hVr8M-oQ"
      },
      "outputs": [],
      "source": [
        "# Restart the kernel and run the cell again.\n",
        "# If the error persists, try the following:\n",
        "!pip uninstall transformers -y\n",
        "!pip install --upgrade transformers --no-cache-dir\n",
        "from transformers import pipeline\n",
        "\n",
        "# The rest of your code\n",
        "import warnings\n",
        "\n",
        "warnings.filterwarnings('ignore')\n"
      ]
    },
    {
      "cell_type": "code",
      "source": [
        "try:\n",
        "  sentiment_pipe = pipeline(\"sentiment-analysis\", model=\"distilbert-base-uncased-finetuned-sst-2-english\")\n",
        "  while True:\n",
        "    promptText=input(\"Enter the text to analysed: or enter exit\\n\",)\n",
        "    if promptText.lower()=='exit':\n",
        "      print(\"GoodBye\")\n",
        "      break\n",
        "    result_single=sentiment_pipe(promptText)\n",
        "    print(result_single)\n",
        "except Exception as e:\n",
        "  print(f\"Error occured:{e}\")\n"
      ],
      "metadata": {
        "id": "DyomadSEP4V7"
      },
      "execution_count": null,
      "outputs": []
    }
  ]
}